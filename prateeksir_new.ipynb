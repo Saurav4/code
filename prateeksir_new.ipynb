{
 "cells": [
  {
   "cell_type": "code",
   "execution_count": 1,
   "metadata": {},
   "outputs": [
    {
     "data": {
      "text/plain": [
       "'C:\\\\Users\\\\Saurav\\\\Downloads'"
      ]
     },
     "execution_count": 1,
     "metadata": {},
     "output_type": "execute_result"
    }
   ],
   "source": [
    "pwd"
   ]
  },
  {
   "cell_type": "code",
   "execution_count": 2,
   "metadata": {},
   "outputs": [],
   "source": [
    "import numpy as np\n",
    "import pandas as pd"
   ]
  },
  {
   "cell_type": "code",
   "execution_count": 3,
   "metadata": {},
   "outputs": [],
   "source": [
    "df = pd.read_excel (r'C:\\\\Users\\\\Saurav\\\\Downloads\\ideasofindia.xlsx')"
   ]
  },
  {
   "cell_type": "code",
   "execution_count": 4,
   "metadata": {},
   "outputs": [
    {
     "data": {
      "text/html": [
       "<div>\n",
       "<style scoped>\n",
       "    .dataframe tbody tr th:only-of-type {\n",
       "        vertical-align: middle;\n",
       "    }\n",
       "\n",
       "    .dataframe tbody tr th {\n",
       "        vertical-align: top;\n",
       "    }\n",
       "\n",
       "    .dataframe thead th {\n",
       "        text-align: right;\n",
       "    }\n",
       "</style>\n",
       "<table border=\"1\" class=\"dataframe\">\n",
       "  <thead>\n",
       "    <tr style=\"text-align: right;\">\n",
       "      <th></th>\n",
       "      <th>ID</th>\n",
       "      <th>Last_Name</th>\n",
       "      <th>Article_Title</th>\n",
       "      <th>Journal</th>\n",
       "      <th>Month</th>\n",
       "      <th>Year</th>\n",
       "    </tr>\n",
       "  </thead>\n",
       "  <tbody>\n",
       "    <tr>\n",
       "      <th>0</th>\n",
       "      <td>0</td>\n",
       "      <td>NaN</td>\n",
       "      <td>Ourselves</td>\n",
       "      <td>AligarhMonthly</td>\n",
       "      <td>January</td>\n",
       "      <td>1903.0</td>\n",
       "    </tr>\n",
       "    <tr>\n",
       "      <th>1</th>\n",
       "      <td>1</td>\n",
       "      <td>Oxford Idler</td>\n",
       "      <td>Oxford Idling</td>\n",
       "      <td>AligarhMonthly</td>\n",
       "      <td>January</td>\n",
       "      <td>1903.0</td>\n",
       "    </tr>\n",
       "    <tr>\n",
       "      <th>2</th>\n",
       "      <td>2</td>\n",
       "      <td>NaN</td>\n",
       "      <td>The Mahommedan Educational Conference</td>\n",
       "      <td>AligarhMonthly</td>\n",
       "      <td>February</td>\n",
       "      <td>1903.0</td>\n",
       "    </tr>\n",
       "    <tr>\n",
       "      <th>3</th>\n",
       "      <td>3</td>\n",
       "      <td>NaN</td>\n",
       "      <td>General Notes</td>\n",
       "      <td>AligarhMonthly</td>\n",
       "      <td>February</td>\n",
       "      <td>1903.0</td>\n",
       "    </tr>\n",
       "    <tr>\n",
       "      <th>4</th>\n",
       "      <td>4</td>\n",
       "      <td>NaN</td>\n",
       "      <td>Correspondence</td>\n",
       "      <td>AligarhMonthly</td>\n",
       "      <td>February</td>\n",
       "      <td>1903.0</td>\n",
       "    </tr>\n",
       "  </tbody>\n",
       "</table>\n",
       "</div>"
      ],
      "text/plain": [
       "   ID     Last_Name                          Article_Title         Journal  \\\n",
       "0   0           NaN                              Ourselves  AligarhMonthly   \n",
       "1   1  Oxford Idler                          Oxford Idling  AligarhMonthly   \n",
       "2   2           NaN  The Mahommedan Educational Conference  AligarhMonthly   \n",
       "3   3           NaN                          General Notes  AligarhMonthly   \n",
       "4   4           NaN                         Correspondence  AligarhMonthly   \n",
       "\n",
       "      Month    Year  \n",
       "0   January  1903.0  \n",
       "1   January  1903.0  \n",
       "2  February  1903.0  \n",
       "3  February  1903.0  \n",
       "4  February  1903.0  "
      ]
     },
     "execution_count": 4,
     "metadata": {},
     "output_type": "execute_result"
    }
   ],
   "source": [
    "df.head()"
   ]
  },
  {
   "cell_type": "code",
   "execution_count": 5,
   "metadata": {},
   "outputs": [
    {
     "data": {
      "text/html": [
       "<div>\n",
       "<style scoped>\n",
       "    .dataframe tbody tr th:only-of-type {\n",
       "        vertical-align: middle;\n",
       "    }\n",
       "\n",
       "    .dataframe tbody tr th {\n",
       "        vertical-align: top;\n",
       "    }\n",
       "\n",
       "    .dataframe thead th {\n",
       "        text-align: right;\n",
       "    }\n",
       "</style>\n",
       "<table border=\"1\" class=\"dataframe\">\n",
       "  <thead>\n",
       "    <tr style=\"text-align: right;\">\n",
       "      <th></th>\n",
       "      <th>ID</th>\n",
       "      <th>Last_Name</th>\n",
       "      <th>Article_Title</th>\n",
       "      <th>Journal</th>\n",
       "      <th>Month</th>\n",
       "      <th>Year</th>\n",
       "    </tr>\n",
       "  </thead>\n",
       "  <tbody>\n",
       "    <tr>\n",
       "      <th>0</th>\n",
       "      <td>0</td>\n",
       "      <td>NaN</td>\n",
       "      <td>Ourselves</td>\n",
       "      <td>AligarhMonthly</td>\n",
       "      <td>January</td>\n",
       "      <td>1903.0</td>\n",
       "    </tr>\n",
       "    <tr>\n",
       "      <th>1</th>\n",
       "      <td>1</td>\n",
       "      <td>Oxford Idler</td>\n",
       "      <td>Oxford Idling</td>\n",
       "      <td>AligarhMonthly</td>\n",
       "      <td>January</td>\n",
       "      <td>1903.0</td>\n",
       "    </tr>\n",
       "    <tr>\n",
       "      <th>2</th>\n",
       "      <td>2</td>\n",
       "      <td>NaN</td>\n",
       "      <td>The Mahommedan Educational Conference</td>\n",
       "      <td>AligarhMonthly</td>\n",
       "      <td>February</td>\n",
       "      <td>1903.0</td>\n",
       "    </tr>\n",
       "    <tr>\n",
       "      <th>3</th>\n",
       "      <td>3</td>\n",
       "      <td>NaN</td>\n",
       "      <td>General Notes</td>\n",
       "      <td>AligarhMonthly</td>\n",
       "      <td>February</td>\n",
       "      <td>1903.0</td>\n",
       "    </tr>\n",
       "    <tr>\n",
       "      <th>4</th>\n",
       "      <td>4</td>\n",
       "      <td>NaN</td>\n",
       "      <td>Correspondence</td>\n",
       "      <td>AligarhMonthly</td>\n",
       "      <td>February</td>\n",
       "      <td>1903.0</td>\n",
       "    </tr>\n",
       "    <tr>\n",
       "      <th>...</th>\n",
       "      <td>...</td>\n",
       "      <td>...</td>\n",
       "      <td>...</td>\n",
       "      <td>...</td>\n",
       "      <td>...</td>\n",
       "      <td>...</td>\n",
       "    </tr>\n",
       "    <tr>\n",
       "      <th>305852</th>\n",
       "      <td>305852</td>\n",
       "      <td>Syed</td>\n",
       "      <td>[Reviews and Notices of Books] Islam and Zoroa...</td>\n",
       "      <td>CurrentThought(Madras)</td>\n",
       "      <td>May</td>\n",
       "      <td>1925.0</td>\n",
       "    </tr>\n",
       "    <tr>\n",
       "      <th>305853</th>\n",
       "      <td>305853</td>\n",
       "      <td>Parpia</td>\n",
       "      <td>The Youth of India</td>\n",
       "      <td>VoiceofIndia(Washington)</td>\n",
       "      <td>November</td>\n",
       "      <td>1945.0</td>\n",
       "    </tr>\n",
       "    <tr>\n",
       "      <th>305854</th>\n",
       "      <td>305854</td>\n",
       "      <td>Khan</td>\n",
       "      <td>An Urdu Poem</td>\n",
       "      <td>MuhammadanAnglo-OrientalCollegeMagazine</td>\n",
       "      <td>April</td>\n",
       "      <td>1893.0</td>\n",
       "    </tr>\n",
       "    <tr>\n",
       "      <th>305855</th>\n",
       "      <td>305855</td>\n",
       "      <td>Bahadur</td>\n",
       "      <td>Convocation Address</td>\n",
       "      <td>OsmaniaMagazine</td>\n",
       "      <td>June</td>\n",
       "      <td>1936.0</td>\n",
       "    </tr>\n",
       "    <tr>\n",
       "      <th>305856</th>\n",
       "      <td>305856</td>\n",
       "      <td>Avalov</td>\n",
       "      <td>Peace Making in Transcaucasia</td>\n",
       "      <td>AsiaticReview</td>\n",
       "      <td>January-October</td>\n",
       "      <td>1928.0</td>\n",
       "    </tr>\n",
       "  </tbody>\n",
       "</table>\n",
       "<p>305857 rows × 6 columns</p>\n",
       "</div>"
      ],
      "text/plain": [
       "            ID     Last_Name  \\\n",
       "0            0           NaN   \n",
       "1            1  Oxford Idler   \n",
       "2            2           NaN   \n",
       "3            3           NaN   \n",
       "4            4           NaN   \n",
       "...        ...           ...   \n",
       "305852  305852          Syed   \n",
       "305853  305853        Parpia   \n",
       "305854  305854          Khan   \n",
       "305855  305855       Bahadur   \n",
       "305856  305856        Avalov   \n",
       "\n",
       "                                            Article_Title  \\\n",
       "0                                               Ourselves   \n",
       "1                                           Oxford Idling   \n",
       "2                   The Mahommedan Educational Conference   \n",
       "3                                           General Notes   \n",
       "4                                          Correspondence   \n",
       "...                                                   ...   \n",
       "305852  [Reviews and Notices of Books] Islam and Zoroa...   \n",
       "305853                                 The Youth of India   \n",
       "305854                                       An Urdu Poem   \n",
       "305855                                Convocation Address   \n",
       "305856                      Peace Making in Transcaucasia   \n",
       "\n",
       "                                        Journal            Month    Year  \n",
       "0                                AligarhMonthly          January  1903.0  \n",
       "1                                AligarhMonthly          January  1903.0  \n",
       "2                                AligarhMonthly         February  1903.0  \n",
       "3                                AligarhMonthly         February  1903.0  \n",
       "4                                AligarhMonthly         February  1903.0  \n",
       "...                                         ...              ...     ...  \n",
       "305852                   CurrentThought(Madras)              May  1925.0  \n",
       "305853                 VoiceofIndia(Washington)         November  1945.0  \n",
       "305854  MuhammadanAnglo-OrientalCollegeMagazine            April  1893.0  \n",
       "305855                          OsmaniaMagazine             June  1936.0  \n",
       "305856                            AsiaticReview  January-October  1928.0  \n",
       "\n",
       "[305857 rows x 6 columns]"
      ]
     },
     "execution_count": 5,
     "metadata": {},
     "output_type": "execute_result"
    }
   ],
   "source": [
    "df"
   ]
  },
  {
   "cell_type": "code",
   "execution_count": 6,
   "metadata": {},
   "outputs": [],
   "source": [
    "import pandas as pandas\n",
    "myfile=open('article_titles_ioi.txt',encoding=\"utf8\") #getting text extracted from Dissolution_code_1 notebook\n",
    "text=myfile.read()"
   ]
  },
  {
   "cell_type": "code",
   "execution_count": 7,
   "metadata": {},
   "outputs": [],
   "source": [
    "from sklearn.feature_extraction.text import TfidfVectorizer\n",
    "import re\n",
    "\n",
    "my=re.findall(r\"[^\\d]+\",text)\n",
    "x=' '.join(my)\n"
   ]
  },
  {
   "cell_type": "code",
   "execution_count": 8,
   "metadata": {},
   "outputs": [],
   "source": [
    "mi=re.findall(r\"[^!%?/\\.+-,$]+\",x)  #removing special characters\n",
    "y=' '.join(mi)"
   ]
  },
  {
   "cell_type": "code",
   "execution_count": 9,
   "metadata": {},
   "outputs": [
    {
     "data": {
      "text/plain": [
       "10110982"
      ]
     },
     "execution_count": 9,
     "metadata": {},
     "output_type": "execute_result"
    }
   ],
   "source": [
    "\n",
    "my=re.findall(r\"[^\\n]+\",y)\n",
    "z=' '.join(my)\n",
    "len(z)"
   ]
  },
  {
   "cell_type": "code",
   "execution_count": 14,
   "metadata": {},
   "outputs": [],
   "source": [
    "from nltk.stem import WordNetLemmatizer \n",
    "  \n",
    "lemmatizer = WordNetLemmatizer() \n",
    "\n",
    "\n",
    "for word in z:\n",
    "    word=lemmatizer.lemmatize(word)"
   ]
  },
  {
   "cell_type": "code",
   "execution_count": 15,
   "metadata": {},
   "outputs": [],
   "source": [
    "import pandas as pd\n",
    "data = {'col':[z[:500]]}      \n",
    "  \n",
    "# Create DataFrame \n",
    "df = pd.DataFrame(data) \n",
    "  \n",
    "# Print the output.\n",
    "df['col'][1]=z[500:1000]\n",
    "df['col'][2]=z[1000:1500]\n",
    "df['col'][3]=z[1500:]\n"
   ]
  },
  {
   "cell_type": "code",
   "execution_count": 16,
   "metadata": {},
   "outputs": [],
   "source": [
    "tfidf=TfidfVectorizer(max_df=0.9,min_df=2,stop_words='english')\n"
   ]
  },
  {
   "cell_type": "code",
   "execution_count": 17,
   "metadata": {},
   "outputs": [],
   "source": [
    "dtm=tfidf.fit_transform(df['col'])\n",
    "\n",
    "#dtm=cv.fit_transform(df['Article_Title'].values.astype('U'))"
   ]
  },
  {
   "cell_type": "code",
   "execution_count": null,
   "metadata": {},
   "outputs": [],
   "source": []
  },
  {
   "cell_type": "code",
   "execution_count": 18,
   "metadata": {},
   "outputs": [
    {
     "data": {
      "text/plain": [
       "<4x72 sparse matrix of type '<class 'numpy.float64'>'\n",
       "\twith 155 stored elements in Compressed Sparse Row format>"
      ]
     },
     "execution_count": 18,
     "metadata": {},
     "output_type": "execute_result"
    }
   ],
   "source": [
    "dtm\n",
    "\n",
    "\n",
    "\n",
    " "
   ]
  },
  {
   "cell_type": "code",
   "execution_count": 19,
   "metadata": {},
   "outputs": [],
   "source": [
    "from sklearn.decomposition import NMF"
   ]
  },
  {
   "cell_type": "code",
   "execution_count": 27,
   "metadata": {},
   "outputs": [],
   "source": [
    "model=NMF(n_components=20,random_state=42)"
   ]
  },
  {
   "cell_type": "code",
   "execution_count": 28,
   "metadata": {},
   "outputs": [
    {
     "data": {
      "text/plain": [
       "NMF(alpha=0.0, beta_loss='frobenius', init=None, l1_ratio=0.0, max_iter=200,\n",
       "    n_components=20, random_state=42, shuffle=False, solver='cd', tol=0.0001,\n",
       "    verbose=0)"
      ]
     },
     "execution_count": 28,
     "metadata": {},
     "output_type": "execute_result"
    }
   ],
   "source": [
    "model.fit(dtm)"
   ]
  },
  {
   "cell_type": "code",
   "execution_count": 29,
   "metadata": {},
   "outputs": [
    {
     "data": {
      "text/plain": [
       "72"
      ]
     },
     "execution_count": 29,
     "metadata": {},
     "output_type": "execute_result"
    }
   ],
   "source": [
    "len(tfidf.get_feature_names())"
   ]
  },
  {
   "cell_type": "code",
   "execution_count": 30,
   "metadata": {},
   "outputs": [
    {
     "name": "stdout",
     "output_type": "stream",
     "text": [
      "The top 30 words for topic 0\n",
      "['arabic', 'health', 'idling', 'anglo', 'allahabad', 'aligarh', 'ii', 'india', 'asiatic', 'conference', 'condition', 'notices', 'bahadur', 'list', 'south', 'vines', 'haji', 'browne', 'football', 'cricketers', 'nainital', 'mahmood', 'union', 'shop', 'duty', 'cricket', 'competition', 'prize', 'mahommedan', 'correspondence']\n",
      "The top 30 words for topic 1\n",
      "['position', 'plea', 'taxation', 'oriental', 'condition', 'asiatic', 'girls', 'lecture', 'anglo', 'educational', 'ali', 'list', 'bahadur', 'royal', 'letters', 'health', 'general', 'conference', 'correspondence', 'late', 'ii', 'school', 'society', 'south', 'letter', 'mr', 'education', 'notices', 'women', 'india']\n",
      "The top 30 words for topic 2\n",
      "['india', 'asiatic', 'letters', 'condition', 'notices', 'games', 'mohammadan', 'list', 'society', 'women', 'ii', 'south', 'plea', 'bahadur', 'subscription', 'school', 'arabic', 'learning', 'surplus', 'lecture', 'maulvi', 'te', 'trip', 'shiraz', 'ali', 'royal', 'health', 'essentials', 'letter', 'parents']\n",
      "The top 30 words for topic 3\n",
      "['review', 'association', 'university', 'oxford', 'position', 'taxation', 'oriental', 'anglo', 'educational', 'general', 'conference', 'cricketers', 'mahmood', 'nainital', 'browne', 'prize', 'haji', 'football', 'mahommedan', 'shop', 'la', 'cricket', 'syed', 'competition', 'girls', 'correspondence', 'late', 'union', 'mr', 'education']\n",
      "The top 30 words for topic 4\n",
      "['games', 'south', 'india', 'notices', 'union', 'learning', 'surplus', 'letter', 'mohammadan', 'health', 'ali', 'women', 'essentials', 'trip', 'society', 'school', 'bahadur', 'lecture', 'letters', 'shiraz', 'condition', 'viceroy', 'royal', 'te', 'subscription', 'asiatic', 'arabic', 'maulvi', 'list', 'plea']\n",
      "The top 30 words for topic 5\n",
      "['association', 'anglo', 'health', 'idling', 'allahabad', 'aligarh', 'ii', 'india', 'arabic', 'prize', 'competition', 'mahommedan', 'shop', 'duty', 'cricket', 'correspondence', 'nainital', 'vines', 'cricketers', 'mahmood', 'football', 'la', 'browne', 'syed', 'girls', 'late', 'haji', 'union', 'mr', 'education']\n",
      "The top 30 words for topic 6\n",
      "['surplus', 'girls', 'essentials', 'taxation', 'condition', 'learning', 'games', 'arabic', 'list', 'lecture', 'correspondence', 'trip', 'position', 'oriental', 'anglo', 'late', 'plea', 'educational', 'general', 'society', 'mr', 'education', 'association', 'viceroy', 'political', 'university', 'review', 'notices', 'conference', 'india']\n",
      "The top 30 words for topic 7\n",
      "['games', 'bahadur', 'arabic', 'india', 'ii', 'health', 'idling', 'aligarh', 'anglo', 'allahabad', 'late', 'competition', 'correspondence', 'prize', 'mr', 'cricket', 'girls', 'haji', 'duty', 'shop', 'mahommedan', 'syed', 'la', 'browne', 'football', 'cricketers', 'vines', 'mahmood', 'nainital', 'union']\n",
      "The top 30 words for topic 8\n",
      "['health', 'football', 'duty', 'shop', 'mahommedan', 'competition', 'prize', 'ii', 'letters', 'allahabad', 'university', 'sports', 'conference', 'parents', 'political', 'association', 'aligarh', 'self', 'review', 'general', 'educational', 'idling', 'anglo', 'tournament', 'team', 'oriental', 'taxation', 'athletic', 'position', 'oxford']\n",
      "The top 30 words for topic 9\n",
      "['lecture', 'ii', 'review', 'late', 'self', 'oxford', 'games', 'union', 'asiatic', 'india', 'anglo', 'letter', 'oriental', 'mahmood', 'general', 'prize', 'learning', 'sports', 'idling', 'shop', 'essentials', 'society', 'syed', 'la', 'subscription', 'allahabad', 'girls', 'surplus', 'association', 'football']\n",
      "The top 30 words for topic 10\n",
      "['ali', 'surplus', 'royal', 'bahadur', 'south', 'arabic', 'shiraz', 'school', 'maulvi', 'women', 'letters', 'condition', 'te', 'asiatic', 'trip', 'lecture', 'parents', 'ii', 'society', 'letter', 'subscription', 'learning', 'health', 'essentials', 'plea', 'games', 'notices', 'viceroy', 'mohammadan', 'list']\n",
      "The top 30 words for topic 11\n",
      "['cricketers', 'bahadur', 'association', 'asiatic', 'arabic', 'anglo', 'allahabad', 'aligarh', 'athletic', 'letters', 'duty', 'educational', 'lecture', 'learning', 'late', 'la', 'india', 'education', 'idling', 'ii', 'haji', 'girls', 'general', 'games', 'football', 'essentials', 'health', 'women', 'maulvi', 'union']\n",
      "The top 30 words for topic 12\n",
      "['maulvi', 'royal', 'letter', 'te', 'plea', 'shiraz', 'school', 'trip', 'ali', 'arabic', 'ii', 'learning', 'subscription', 'women', 'list', 'union', 'south', 'essentials', 'society', 'health', 'surplus', 'notices', 'mohammadan', 'letters', 'bahadur', 'condition', 'games', 'asiatic', 'parents', 'viceroy']\n",
      "The top 30 words for topic 13\n",
      "['general', 'health', 'idling', 'allahabad', 'aligarh', 'ii', 'india', 'anglo', 'conference', 'competition', 'prize', 'mahommedan', 'cricket', 'correspondence', 'union', 'duty', 'mahmood', 'haji', 'shop', 'cricketers', 'football', 'girls', 'browne', 'syed', 'nainital', 'vines', 'la', 'late', 'education', 'mr']\n",
      "The top 30 words for topic 14\n",
      "['late', 'tournament', 'team', 'mr', 'education', 'shop', 'athletic', 'cricket', 'aligarh', 'oxford', 'sports', 'competition', 'taxation', 'letters', 'anglo', 'allahabad', 'ii', 'prize', 'oriental', 'position', 'duty', 'correspondence', 'educational', 'political', 'general', 'self', 'review', 'association', 'university', 'conference']\n",
      "The top 30 words for topic 15\n",
      "['tournament', 'football', 'conference', 'position', 'subscription', 'te', 'royal', 'ali', 'health', 'asiatic', 'bahadur', 'maulvi', 'essentials', 'condition', 'games', 'south', 'school', 'arabic', 'surplus', 'learning', 'lecture', 'shiraz', 'trip', 'list', 'plea', 'viceroy', 'society', 'notices', 'women', 'india']\n",
      "The top 30 words for topic 16\n",
      "['conference', 'lecture', 'education', 'educational', 'essentials', 'cricketers', 'games', 'late', 'la', 'india', 'football', 'haji', 'health', 'women', 'girls', 'general', 'letters', 'ii', 'aligarh', 'self', 'sports', 'allahabad', 'idling', 'prize', 'duty', 'cricket', 'mahommedan', 'shop', 'competition', 'correspondence']\n",
      "The top 30 words for topic 17\n",
      "['essentials', 'football', 'tournament', 'general', 'cricket', 'letter', 'duty', 'idling', 'bahadur', 'shiraz', 'parents', 'india', 'list', 'learning', 'mohammadan', 'south', 'women', 'subscription', 'arabic', 'society', 'letters', 'notices', 'games', 'ii', 'viceroy', 'lecture', 'plea', 'condition', 'asiatic', 'school']\n",
      "The top 30 words for topic 18\n",
      "['general', 'girls', 'educational', 'review', 'cricket', 'position', 'association', 'competition', 'correspondence', 'self', 'duty', 'university', 'oriental', 'shop', 'prize', 'oxford', 'parents', 'mahommedan', 'political', 'taxation', 'athletic', 'anglo', 'team', 'tournament', 'idling', 'letters', 'ii', 'aligarh', 'sports', 'allahabad']\n",
      "The top 30 words for topic 19\n",
      "['educational', 'general', 'cricket', 'essentials', 'football', 'tournament', 'shiraz', 'ii', 'trip', 'surplus', 'te', 'bahadur', 'school', 'plea', 'women', 'list', 'learning', 'games', 'maulvi', 'subscription', 'society', 'letters', 'lecture', 'mohammadan', 'notices', 'arabic', 'viceroy', 'asiatic', 'condition', 'south']\n"
     ]
    }
   ],
   "source": [
    "for index, topic in enumerate(model.components_):\n",
    "    print(f\"The top 30 words for topic {index}\")\n",
    "    print([tfidf.get_feature_names()[i] for i in topic.argsort()[-30:]])"
   ]
  },
  {
   "cell_type": "code",
   "execution_count": 31,
   "metadata": {},
   "outputs": [],
   "source": [
    "#rw="
   ]
  },
  {
   "cell_type": "code",
   "execution_count": null,
   "metadata": {},
   "outputs": [],
   "source": []
  },
  {
   "cell_type": "code",
   "execution_count": 46,
   "metadata": {},
   "outputs": [],
   "source": [
    "#topic_res=LDA.transform(dtm)"
   ]
  },
  {
   "cell_type": "code",
   "execution_count": 47,
   "metadata": {},
   "outputs": [
    {
     "data": {
      "text/plain": [
       "(4, 15)"
      ]
     },
     "execution_count": 47,
     "metadata": {},
     "output_type": "execute_result"
    }
   ],
   "source": [
    "#topic_res.shape"
   ]
  },
  {
   "cell_type": "code",
   "execution_count": 48,
   "metadata": {},
   "outputs": [
    {
     "data": {
      "text/plain": [
       "14"
      ]
     },
     "execution_count": 48,
     "metadata": {},
     "output_type": "execute_result"
    }
   ],
   "source": [
    "#topic_res[2].argmax()"
   ]
  },
  {
   "cell_type": "code",
   "execution_count": 50,
   "metadata": {},
   "outputs": [],
   "source": [
    "#df['topic']=topic_res.argmax(axis=1)"
   ]
  },
  {
   "cell_type": "code",
   "execution_count": 51,
   "metadata": {},
   "outputs": [],
   "source": [
    "#df"
   ]
  },
  {
   "cell_type": "code",
   "execution_count": null,
   "metadata": {},
   "outputs": [],
   "source": []
  },
  {
   "cell_type": "code",
   "execution_count": 52,
   "metadata": {},
   "outputs": [],
   "source": [
    "#df.head()"
   ]
  },
  {
   "cell_type": "code",
   "execution_count": 53,
   "metadata": {},
   "outputs": [],
   "source": [
    "#df.to_excel(r'C:\\\\Users\\\\Saurav\\\\Downloads\\iimb1.xlsx', index = False)\n"
   ]
  },
  {
   "cell_type": "code",
   "execution_count": 119,
   "metadata": {},
   "outputs": [],
   "source": [
    "df[\"Year\"]=df[\"Year\"].astype(str)\n",
    "ra=df[\"Year\"].str.startswith(\"184\",na=False)\n",
    "tmo=df[ra]\n",
    "\n",
    "ra1=df[\"Year\"].str.startswith(\"185\",na=False)\n",
    "tmo1=df[ra1]\n",
    "\n",
    "ra2=df[\"Year\"].str.startswith(\"186\",na=False)\n",
    "tmo2=df[ra2]\n",
    "\n",
    "om =pd.concat([tmo,tmo1],axis=0)\n",
    "om =pd.concat([tmo1,tmo2],axis=0)\n",
    "\n",
    "\n",
    "#ra3=df[\"Year\"].str.startswith(\"187\",na=False)\n",
    "  #tmo3=df[ra3]\n",
    "\n",
    "#ra4=df[\"Year\"].str.startswith(\"188\",na=False)\n",
    "#tmo4=df[ra4]\n",
    "\n",
    "#ra5=df[\"Year\"].str.startswith(\"189\",na=False)\n",
    "#tmo5=df[ra5]#"
   ]
  },
  {
   "cell_type": "code",
   "execution_count": 120,
   "metadata": {},
   "outputs": [],
   "source": [
    "#om =pd.concat([tmo,tmo1],axis=0)\n",
    "#om =pd.concat([tmo1,tmo2],axis=0)"
   ]
  },
  {
   "cell_type": "code",
   "execution_count": 113,
   "metadata": {},
   "outputs": [],
   "source": [
    "pr=df[ra]"
   ]
  },
  {
   "cell_type": "code",
   "execution_count": 54,
   "metadata": {},
   "outputs": [],
   "source": [
    "#pr"
   ]
  },
  {
   "cell_type": "code",
   "execution_count": 55,
   "metadata": {},
   "outputs": [],
   "source": [
    "#pr['topic'].value_counts()"
   ]
  },
  {
   "cell_type": "code",
   "execution_count": 56,
   "metadata": {},
   "outputs": [],
   "source": [
    "#om['topic'].value_counts()"
   ]
  },
  {
   "cell_type": "code",
   "execution_count": 122,
   "metadata": {},
   "outputs": [],
   "source": [
    "df[\"Year\"]=df[\"Year\"].astype(str)\n",
    "ra=df[\"Year\"].str.startswith(\"187\",na=False)\n",
    "tmo=df[ra]\n",
    "\n",
    "ra1=df[\"Year\"].str.startswith(\"188\",na=False)\n",
    "tmo1=df[ra1]\n",
    "\n",
    "ra2=df[\"Year\"].str.startswith(\"189\",na=False)\n",
    "tmo2=df[ra2]\n",
    "\n",
    "om1 =pd.concat([tmo,tmo1],axis=0)\n",
    "om1 =pd.concat([tmo1,tmo2],axis=0)"
   ]
  },
  {
   "cell_type": "code",
   "execution_count": 123,
   "metadata": {},
   "outputs": [],
   "source": [
    "df[\"Year\"]=df[\"Year\"].astype(str)\n",
    "ra=df[\"Year\"].str.startswith(\"190\",na=False)\n",
    "tmo=df[ra]\n",
    "\n",
    "ra1=df[\"Year\"].str.startswith(\"191\",na=False)\n",
    "tmo1=df[ra1]\n",
    "\n",
    "ra2=df[\"Year\"].str.startswith(\"192\",na=False)\n",
    "tmo2=df[ra2]\n",
    "\n",
    "om2 =pd.concat([tmo,tmo1],axis=0)\n",
    "om2 =pd.concat([tmo1,tmo2],axis=0)"
   ]
  },
  {
   "cell_type": "code",
   "execution_count": 124,
   "metadata": {},
   "outputs": [],
   "source": [
    "df[\"Year\"]=df[\"Year\"].astype(str)\n",
    "ra=df[\"Year\"].str.startswith(\"193\",na=False)\n",
    "tmo=df[ra]\n",
    "\n",
    "ra1=df[\"Year\"].str.startswith(\"194\",na=False)\n",
    "tmo1=df[raj]\n",
    "\n",
    "raj=df[\"Year\"].str.startswith(\"195\",na=False)\n",
    "tmo2=df[raj]\n",
    "\n",
    "om3 =pd.concat([tmo,tmo1],axis=0)\n",
    "om3 =pd.concat([tmo1,tmo2],axis=0)"
   ]
  },
  {
   "cell_type": "code",
   "execution_count": 125,
   "metadata": {},
   "outputs": [],
   "source": [
    "df[\"Year\"]=df[\"Year\"].astype(str)\n",
    "ra=df[\"Year\"].str.startswith(\"196\",na=False)\n",
    "tmo=df[ra]\n",
    "\n",
    "ra1=df[\"Year\"].str.startswith(\"197\",na=False)\n",
    "tmo1=df[ra1]\n",
    "\n",
    "ra2=df[\"Year\"].str.startswith(\"198\",na=False)\n",
    "tmo2=df[ra2]\n",
    "\n",
    "om4 =pd.concat([tmo,tmo1],axis=0)\n",
    "om4 =pd.concat([tmo1,tmo2],axis=0)"
   ]
  },
  {
   "cell_type": "code",
   "execution_count": 130,
   "metadata": {},
   "outputs": [
    {
     "data": {
      "text/plain": [
       "14    2787\n",
       "9     2344\n",
       "8     2135\n",
       "0     2082\n",
       "4     1932\n",
       "5     1899\n",
       "1     1606\n",
       "11    1601\n",
       "3     1539\n",
       "10    1529\n",
       "6     1460\n",
       "7     1459\n",
       "13    1199\n",
       "2     1094\n",
       "12     748\n",
       "Name: topic, dtype: int64"
      ]
     },
     "execution_count": 130,
     "metadata": {},
     "output_type": "execute_result"
    }
   ],
   "source": [
    "om1['topic'].value_counts()\n"
   ]
  },
  {
   "cell_type": "code",
   "execution_count": 131,
   "metadata": {},
   "outputs": [
    {
     "data": {
      "text/plain": [
       "14    9103\n",
       "0     8333\n",
       "11    8145\n",
       "4     7631\n",
       "6     7250\n",
       "5     6702\n",
       "2     6511\n",
       "13    6425\n",
       "1     6346\n",
       "9     6342\n",
       "7     6005\n",
       "10    5540\n",
       "8     5540\n",
       "3     5386\n",
       "12    3900\n",
       "Name: topic, dtype: int64"
      ]
     },
     "execution_count": 131,
     "metadata": {},
     "output_type": "execute_result"
    }
   ],
   "source": [
    "om2['topic'].value_counts()"
   ]
  },
  {
   "cell_type": "code",
   "execution_count": 132,
   "metadata": {},
   "outputs": [
    {
     "data": {
      "text/plain": [
       "11    5771\n",
       "13    5277\n",
       "0     4973\n",
       "5     4662\n",
       "2     4411\n",
       "4     4404\n",
       "1     4242\n",
       "12    4213\n",
       "10    4042\n",
       "6     4023\n",
       "3     3934\n",
       "14    3892\n",
       "7     3736\n",
       "8     3361\n",
       "9     3300\n",
       "Name: topic, dtype: int64"
      ]
     },
     "execution_count": 132,
     "metadata": {},
     "output_type": "execute_result"
    }
   ],
   "source": [
    "om3['topic'].value_counts()"
   ]
  },
  {
   "cell_type": "code",
   "execution_count": 133,
   "metadata": {},
   "outputs": [
    {
     "data": {
      "text/plain": [
       "5     2\n",
       "9     2\n",
       "13    1\n",
       "1     1\n",
       "Name: topic, dtype: int64"
      ]
     },
     "execution_count": 133,
     "metadata": {},
     "output_type": "execute_result"
    }
   ],
   "source": [
    "om4['topic'].value_counts()"
   ]
  },
  {
   "cell_type": "code",
   "execution_count": 135,
   "metadata": {},
   "outputs": [
    {
     "data": {
      "text/plain": [
       "14    404\n",
       "9     210\n",
       "8     185\n",
       "0     184\n",
       "11    152\n",
       "5     133\n",
       "10    121\n",
       "3     118\n",
       "13    112\n",
       "7     105\n",
       "1     102\n",
       "6     100\n",
       "2      89\n",
       "12     67\n",
       "4      60\n",
       "Name: topic, dtype: int64"
      ]
     },
     "execution_count": 135,
     "metadata": {},
     "output_type": "execute_result"
    }
   ],
   "source": [
    "om['topic'].value_counts()"
   ]
  },
  {
   "cell_type": "code",
   "execution_count": 91,
   "metadata": {},
   "outputs": [],
   "source": [
    "graw=re.search(r'\\w+ - \\w+',text)"
   ]
  },
  {
   "cell_type": "code",
   "execution_count": 92,
   "metadata": {},
   "outputs": [
    {
     "data": {
      "text/plain": [
       "<re.Match object; span=(10781, 10799), match='Qandhar - Jahangir'>"
      ]
     },
     "execution_count": 92,
     "metadata": {},
     "output_type": "execute_result"
    }
   ],
   "source": [
    "graw"
   ]
  },
  {
   "cell_type": "code",
   "execution_count": 3,
   "metadata": {},
   "outputs": [
    {
     "name": "stderr",
     "output_type": "stream",
     "text": [
      "[nltk_data] Downloading package wordnet to\n",
      "[nltk_data]     C:\\Users\\Saurav\\AppData\\Roaming\\nltk_data...\n",
      "[nltk_data]   Unzipping corpora\\wordnet.zip.\n"
     ]
    },
    {
     "data": {
      "text/plain": [
       "True"
      ]
     },
     "execution_count": 3,
     "metadata": {},
     "output_type": "execute_result"
    }
   ],
   "source": [
    "import nltk\n",
    "nltk.download('wordnet')"
   ]
  },
  {
   "cell_type": "code",
   "execution_count": 13,
   "metadata": {},
   "outputs": [],
   "source": [
    "\n",
    "\n",
    "\n"
   ]
  },
  {
   "cell_type": "code",
   "execution_count": null,
   "metadata": {},
   "outputs": [],
   "source": []
  }
 ],
 "metadata": {
  "kernelspec": {
   "display_name": "Python 3",
   "language": "python",
   "name": "python3"
  },
  "language_info": {
   "codemirror_mode": {
    "name": "ipython",
    "version": 3
   },
   "file_extension": ".py",
   "mimetype": "text/x-python",
   "name": "python",
   "nbconvert_exporter": "python",
   "pygments_lexer": "ipython3",
   "version": "3.7.6"
  }
 },
 "nbformat": 4,
 "nbformat_minor": 4
}
